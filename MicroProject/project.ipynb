{
 "cells": [
  {
   "cell_type": "code",
   "execution_count": 109,
   "metadata": {},
   "outputs": [],
   "source": [
    "from pyspark.sql import SparkSession\n",
    "from pyspark.sql.functions import col, to_date, to_timestamp, round, countDistinct, expr, count, sum, avg, min, max, to_timestamp, unix_timestamp, year, weekofyear\n",
    "from pyspark.sql.types import StructField, StructType, IntegerType, StringType, DateType"
   ]
  },
  {
   "cell_type": "code",
   "execution_count": 95,
   "metadata": {},
   "outputs": [],
   "source": [
    "spark = SparkSession.builder. \\\n",
    "                    master(\"local[4]\"). \\\n",
    "                    appName(\"Processing Fire Department & Emergency Medical Services\"). \\\n",
    "                    getOrCreate()"
   ]
  },
  {
   "cell_type": "code",
   "execution_count": 96,
   "metadata": {},
   "outputs": [
    {
     "name": "stderr",
     "output_type": "stream",
     "text": [
      "                                                                                \r"
     ]
    }
   ],
   "source": [
    "raw_df = spark.read. \\\n",
    "                format(\"csv\"). \\\n",
    "                option(\"header\", \"true\"). \\\n",
    "                option(\"inferSchema\", \"true\"). \\\n",
    "                load(\"data/Fire*.csv\")"
   ]
  },
  {
   "cell_type": "code",
   "execution_count": 97,
   "metadata": {},
   "outputs": [],
   "source": [
    "renamed_df = raw_df. \\\n",
    "                    withColumnRenamed(\"Call Number\", \"CallNumber\"). \\\n",
    "                    withColumnRenamed(\"Unit ID\", \"UnitID\"). \\\n",
    "                    withColumnRenamed(\"Incident Number\", \"IncidentNumber\"). \\\n",
    "                    withColumnRenamed(\"Call Date\", \"CallDate\"). \\\n",
    "                    withColumnRenamed(\"Watch Date\", \"WatchDate\"). \\\n",
    "                    withColumnRenamed(\"Call Final Disposition\", \"CallFinalDisposition\"). \\\n",
    "                    withColumnRenamed(\"Available DtTm\", \"AvailableDtTm\"). \\\n",
    "                    withColumnRenamed(\"Zipcode of Incident\", \"Zipcode\"). \\\n",
    "                    withColumnRenamed(\"Station Area\", \"StationArea\"). \\\n",
    "                    withColumnRenamed(\"Final Priority\", \"FinalPriority\"). \\\n",
    "                    withColumnRenamed(\"ALS Unit\", \"ALSUnit\"). \\\n",
    "                    withColumnRenamed(\"Call Type Group\", \"CallTypeGroup\"). \\\n",
    "                    withColumnRenamed(\"Unit Sequence in call dispatch\", \"UnitSequenceInCallDispatch\"). \\\n",
    "                    withColumnRenamed(\"Fire Prevention District\", \"FirePreventionDistrict\"). \\\n",
    "                    withColumnRenamed(\"Superivisor District\", \"SupervisorDistrict\")"
   ]
  },
  {
   "cell_type": "code",
   "execution_count": 98,
   "metadata": {},
   "outputs": [],
   "source": [
    "parsed_df = renamed_df. \\\n",
    "                    withColumn(\"CallDate\", to_date(col(\"CallDate\"), \"MM/dd/yyyy\")). \\\n",
    "                    withColumn(\"WatchDate\", to_date(col(\"WatchDate\"), \"MM/dd/yyyy\")). \\\n",
    "                    withColumn(\"AvailableDtTm\", to_timestamp(col(\"AvailableDtTm\"), \"MM/dd/yyyy hh:mm:ss a\")). \\\n",
    "                    withColumn(\"Response DtTm\", to_timestamp(col(\"Response DtTm\"), \"MM/dd/yyyy hh:mm:ss a\")). \\\n",
    "                    withColumn(\"Dispatch DtTm\", to_timestamp(col(\"Dispatch DtTm\"), \"MM/dd/yyyy hh:mm:ss a\"))\n"
   ]
  },
  {
   "cell_type": "markdown",
   "metadata": {},
   "source": [
    "1. How many distinct type of calls were made to the fire department?"
   ]
  },
  {
   "cell_type": "code",
   "execution_count": 99,
   "metadata": {},
   "outputs": [
    {
     "name": "stderr",
     "output_type": "stream",
     "text": [
      "[Stage 131:====================================================>  (20 + 1) / 21]\r"
     ]
    },
    {
     "name": "stdout",
     "output_type": "stream",
     "text": [
      "+----------------------+\n",
      "|CountDistinctCallTypes|\n",
      "+----------------------+\n",
      "|                    32|\n",
      "+----------------------+\n",
      "\n"
     ]
    },
    {
     "name": "stderr",
     "output_type": "stream",
     "text": [
      "                                                                                \r"
     ]
    }
   ],
   "source": [
    "distinctCount_df = parsed_df. \\\n",
    "    where(\"'Call Type' is not null\"). \\\n",
    "    agg(\n",
    "        countDistinct(\"Call Type\").alias(\"CountDistinctCallTypes\")\n",
    "    )\n",
    "\n",
    "distinctCount_df.show(1)"
   ]
  },
  {
   "cell_type": "markdown",
   "metadata": {},
   "source": [
    "2. What were the distinct types of calls made to the fire department?"
   ]
  },
  {
   "cell_type": "code",
   "execution_count": 100,
   "metadata": {},
   "outputs": [
    {
     "name": "stderr",
     "output_type": "stream",
     "text": [
      "[Stage 137:====================================================>  (20 + 1) / 21]\r"
     ]
    },
    {
     "name": "stdout",
     "output_type": "stream",
     "text": [
      "+--------------------+\n",
      "|   DistinctCallTypes|\n",
      "+--------------------+\n",
      "|Elevator / Escala...|\n",
      "|         Marine Fire|\n",
      "|  Aircraft Emergency|\n",
      "|Confined Space / ...|\n",
      "|Structure Fire / ...|\n",
      "|      Administrative|\n",
      "|              Alarms|\n",
      "|Odor (Strange / U...|\n",
      "|Citizen Assist / ...|\n",
      "|              HazMat|\n",
      "|Watercraft in Dis...|\n",
      "|           Explosion|\n",
      "|           Oil Spill|\n",
      "|        Vehicle Fire|\n",
      "|  Suspicious Package|\n",
      "|Extrication / Ent...|\n",
      "|               Other|\n",
      "|        Outside Fire|\n",
      "|   Traffic Collision|\n",
      "|       Assist Police|\n",
      "+--------------------+\n",
      "only showing top 20 rows\n",
      "\n"
     ]
    },
    {
     "name": "stderr",
     "output_type": "stream",
     "text": [
      "                                                                                \r"
     ]
    }
   ],
   "source": [
    "distinctType_df = parsed_df. \\\n",
    "                        where(\" 'Call Type' is not null \"). \\\n",
    "                        select(col(\"Call Type\").alias(\"DistinctCallTypes\")). \\\n",
    "                        distinct()\n",
    "\n",
    "distinctType_df.show()"
   ]
  },
  {
   "cell_type": "markdown",
   "metadata": {},
   "source": [
    "3. What were the most common Call Types"
   ]
  },
  {
   "cell_type": "code",
   "execution_count": 101,
   "metadata": {},
   "outputs": [
    {
     "name": "stderr",
     "output_type": "stream",
     "text": [
      "[Stage 140:====================================================>  (20 + 1) / 21]\r"
     ]
    },
    {
     "name": "stdout",
     "output_type": "stream",
     "text": [
      "+--------------------+-------+\n",
      "|           Call Type|  count|\n",
      "+--------------------+-------+\n",
      "|    Medical Incident|4377025|\n",
      "|              Alarms| 745938|\n",
      "|Structure Fire / ...| 743202|\n",
      "|   Traffic Collision| 266178|\n",
      "|               Other| 116743|\n",
      "|Citizen Assist / ...| 100283|\n",
      "|        Outside Fire|  89817|\n",
      "|        Water Rescue|  35072|\n",
      "|Gas Leak (Natural...|  31938|\n",
      "|        Vehicle Fire|  28982|\n",
      "|   Electrical Hazard|  23166|\n",
      "|Elevator / Escala...|  18578|\n",
      "|Smoke Investigati...|  14994|\n",
      "|Odor (Strange / U...|  13830|\n",
      "|          Fuel Spill|   7165|\n",
      "|              HazMat|   4408|\n",
      "|Industrial Accidents|   3423|\n",
      "|           Explosion|   3128|\n",
      "|Train / Rail Inci...|   1735|\n",
      "|       Assist Police|   1523|\n",
      "+--------------------+-------+\n",
      "only showing top 20 rows\n",
      "\n"
     ]
    },
    {
     "name": "stderr",
     "output_type": "stream",
     "text": [
      "                                                                                \r"
     ]
    }
   ],
   "source": [
    "CommonCallTypes_df = parsed_df. \\\n",
    "                            where(\" 'Call Type' is not null \"). \\\n",
    "                            select(col(\"Call Type\")).\\\n",
    "                            groupBy(col(\"Call Type\")). \\\n",
    "                            count(). \\\n",
    "                            orderBy(\"count\", ascending=False)\n",
    "CommonCallTypes_df.show()"
   ]
  },
  {
   "cell_type": "markdown",
   "metadata": {},
   "source": [
    "4. What Zipcodes accounted for most common calls?"
   ]
  },
  {
   "cell_type": "code",
   "execution_count": 102,
   "metadata": {},
   "outputs": [
    {
     "name": "stderr",
     "output_type": "stream",
     "text": [
      "[Stage 143:====================================================>  (20 + 1) / 21]\r"
     ]
    },
    {
     "name": "stdout",
     "output_type": "stream",
     "text": [
      "+-------+---------+\n",
      "|Zipcode|CallCount|\n",
      "+-------+---------+\n",
      "|94103.0|   879162|\n",
      "|94102.0|   808518|\n",
      "|94109.0|   582802|\n",
      "|94110.0|   549309|\n",
      "|94124.0|   337500|\n",
      "|94112.0|   308737|\n",
      "|94115.0|   277190|\n",
      "|94107.0|   265437|\n",
      "|94122.0|   233890|\n",
      "|94133.0|   227246|\n",
      "|94117.0|   218903|\n",
      "|94118.0|   192337|\n",
      "|94114.0|   187734|\n",
      "|94134.0|   186453|\n",
      "|94105.0|   180068|\n",
      "|94121.0|   170969|\n",
      "|94132.0|   160347|\n",
      "|94108.0|   152194|\n",
      "|94116.0|   144674|\n",
      "|94123.0|   130863|\n",
      "+-------+---------+\n",
      "only showing top 20 rows\n",
      "\n"
     ]
    },
    {
     "name": "stderr",
     "output_type": "stream",
     "text": [
      "                                                                                \r"
     ]
    }
   ],
   "source": [
    "Zipcode_df = parsed_df. \\\n",
    "                    select(\"Zipcode\"). \\\n",
    "                    groupBy(\"Zipcode\"). \\\n",
    "                    agg(\n",
    "                        count(\"Zipcode\").alias(\"CallCount\")\n",
    "                    ). \\\n",
    "                    orderBy(\"CallCount\", ascending=False)\n",
    "                    \n",
    "\n",
    "Zipcode_df.show()"
   ]
  },
  {
   "cell_type": "markdown",
   "metadata": {},
   "source": [
    "5. What SanFransico neighbours are in Zipcodes 94102 and 94103"
   ]
  },
  {
   "cell_type": "code",
   "execution_count": 103,
   "metadata": {},
   "outputs": [
    {
     "name": "stderr",
     "output_type": "stream",
     "text": [
      "                                                                                \r"
     ]
    },
    {
     "data": {
      "text/plain": [
       "423757"
      ]
     },
     "execution_count": 103,
     "metadata": {},
     "output_type": "execute_result"
    }
   ],
   "source": [
    "sanFransicoPeople = parsed_df. \\\n",
    "                                where(\" City == 'San Francisco' AND Zipcode in (94102, 94104)\")\n",
    "\n",
    "sanFransicoPeople.count()\n"
   ]
  },
  {
   "cell_type": "markdown",
   "metadata": {},
   "source": [
    "6. What as was the sum of all call, average, min, max of call response times? "
   ]
  },
  {
   "cell_type": "code",
   "execution_count": 104,
   "metadata": {},
   "outputs": [
    {
     "name": "stdout",
     "output_type": "stream",
     "text": [
      "root\n",
      " |-- CallNumber: integer (nullable = true)\n",
      " |-- UnitID: string (nullable = true)\n",
      " |-- IncidentNumber: integer (nullable = true)\n",
      " |-- Call Type: string (nullable = true)\n",
      " |-- CallDate: date (nullable = true)\n",
      " |-- WatchDate: date (nullable = true)\n",
      " |-- Received DtTm: string (nullable = true)\n",
      " |-- Entry DtTm: string (nullable = true)\n",
      " |-- Dispatch DtTm: timestamp (nullable = true)\n",
      " |-- Response DtTm: timestamp (nullable = true)\n",
      " |-- On Scene DtTm: string (nullable = true)\n",
      " |-- Transport DtTm: string (nullable = true)\n",
      " |-- Hospital DtTm: string (nullable = true)\n",
      " |-- CallFinalDisposition: string (nullable = true)\n",
      " |-- AvailableDtTm: timestamp (nullable = true)\n",
      " |-- Address: string (nullable = true)\n",
      " |-- City: string (nullable = true)\n",
      " |-- Zipcode: double (nullable = true)\n",
      " |-- Battalion: string (nullable = true)\n",
      " |-- StationArea: string (nullable = true)\n",
      " |-- Box: string (nullable = true)\n",
      " |-- Original Priority: string (nullable = true)\n",
      " |-- Priority: string (nullable = true)\n",
      " |-- FinalPriority: integer (nullable = true)\n",
      " |-- ALSUnit: boolean (nullable = true)\n",
      " |-- CallTypeGroup: string (nullable = true)\n",
      " |-- Number of Alarms: integer (nullable = true)\n",
      " |-- Unit Type: string (nullable = true)\n",
      " |-- UnitSequenceInCallDispatch: integer (nullable = true)\n",
      " |-- FirePreventionDistrict: string (nullable = true)\n",
      " |-- Supervisor District: string (nullable = true)\n",
      " |-- Neighborhooods - Analysis Boundaries: string (nullable = true)\n",
      " |-- RowID: string (nullable = true)\n",
      " |-- case_location: string (nullable = true)\n",
      " |-- data_as_of: string (nullable = true)\n",
      " |-- data_loaded_at: string (nullable = true)\n",
      " |-- Analysis Neighborhoods: integer (nullable = true)\n",
      "\n"
     ]
    }
   ],
   "source": [
    "parsed_df.printSchema()"
   ]
  },
  {
   "cell_type": "code",
   "execution_count": 105,
   "metadata": {},
   "outputs": [
    {
     "name": "stderr",
     "output_type": "stream",
     "text": [
      "[Stage 149:====================================================>  (20 + 1) / 21]\r"
     ]
    },
    {
     "name": "stdout",
     "output_type": "stream",
     "text": [
      "+-----------------+-------------------+--------------------+-------------------+\n",
      "| CallResponseTime|AvgCallResponseTime| MinCallResponseTime|MaxCallResponseTime|\n",
      "+-----------------+-------------------+--------------------+-------------------+\n",
      "|8394448.016667249|  1.401515174535132|0.016666666666666666| 1878.8666666666666|\n",
      "+-----------------+-------------------+--------------------+-------------------+\n",
      "\n"
     ]
    },
    {
     "name": "stderr",
     "output_type": "stream",
     "text": [
      "                                                                                \r"
     ]
    }
   ],
   "source": [
    "ResponseTime_df = parsed_df. \\\n",
    "                    withColumn(\"Response_Time\", (unix_timestamp(col(\"Response DtTm\")) - unix_timestamp(col(\"Dispatch DtTm\"))) / 60.0 ). \\\n",
    "                    where(\"Response_Time > 0\")\n",
    "                    \n",
    "CallAggregations_df = ResponseTime_df. \\\n",
    "                        agg(\n",
    "                            sum(col(\"Response_Time\")).alias(\"CallResponseTime\"),\n",
    "                            avg(col(\"Response_Time\")).alias(\"AvgCallResponseTime\"),\n",
    "                            min(col(\"Response_Time\")).alias(\"MinCallResponseTime\"),\n",
    "                            max(col(\"Response_Time\")).alias(\"MaxCallResponseTime\")\n",
    "                        )\n",
    "\n",
    "CallAggregations_df.show()\n"
   ]
  },
  {
   "cell_type": "markdown",
   "metadata": {},
   "source": [
    "7. How many distinct years of data are there in the csv file?"
   ]
  },
  {
   "cell_type": "code",
   "execution_count": 106,
   "metadata": {},
   "outputs": [
    {
     "name": "stderr",
     "output_type": "stream",
     "text": [
      "                                                                                \r"
     ]
    },
    {
     "data": {
      "text/plain": [
       "25"
      ]
     },
     "execution_count": 106,
     "metadata": {},
     "output_type": "execute_result"
    }
   ],
   "source": [
    "DistinctYears = ResponseTime_df.select(expr(\"year(CallDate)\")).distinct()\n",
    "DistinctYears.count()"
   ]
  },
  {
   "cell_type": "markdown",
   "metadata": {},
   "source": [
    "8. What week of the year in 2018 had the most fire calls?"
   ]
  },
  {
   "cell_type": "code",
   "execution_count": 116,
   "metadata": {},
   "outputs": [
    {
     "name": "stderr",
     "output_type": "stream",
     "text": [
      "[Stage 167:====================================================>  (20 + 1) / 21]\r"
     ]
    },
    {
     "name": "stdout",
     "output_type": "stream",
     "text": [
      "+----------+-----+\n",
      "|WeekOfYear|count|\n",
      "+----------+-----+\n",
      "|         1| 6953|\n",
      "|        49| 5833|\n",
      "|        25| 5818|\n",
      "|        13| 5785|\n",
      "|        44| 5725|\n",
      "|        46| 5700|\n",
      "|        22| 5689|\n",
      "|        48| 5689|\n",
      "|        27| 5687|\n",
      "|         2| 5684|\n",
      "|        16| 5683|\n",
      "|         5| 5678|\n",
      "|        40| 5658|\n",
      "|        43| 5657|\n",
      "|         6| 5589|\n",
      "|         8| 5572|\n",
      "|        18| 5566|\n",
      "|         9| 5561|\n",
      "|        45| 5540|\n",
      "|        38| 5540|\n",
      "+----------+-----+\n",
      "only showing top 20 rows\n",
      "\n"
     ]
    },
    {
     "name": "stderr",
     "output_type": "stream",
     "text": [
      "                                                                                \r"
     ]
    }
   ],
   "source": [
    "WeekofYear_df = ResponseTime_df. \\\n",
    "                            withColumn(\"WeekOfYear\", expr(\"weekOfYear(CallDate)\")). \\\n",
    "                            where(\" year(CallDate) == 2018 \"). \\\n",
    "                            select(\"WeekOfyear\"). \\\n",
    "                            groupBy(col(\"WeekOfYear\")). \\\n",
    "                            count(). \\\n",
    "                            orderBy(\"count\", ascending=False)\n",
    "\n",
    "WeekofYear_df.show()"
   ]
  },
  {
   "cell_type": "markdown",
   "metadata": {},
   "source": [
    "9. What neighbourhoods in SanFrancisco had the worst response time in 2018?"
   ]
  },
  {
   "cell_type": "code",
   "execution_count": 119,
   "metadata": {},
   "outputs": [
    {
     "name": "stderr",
     "output_type": "stream",
     "text": [
      "[Stage 173:=================================================>     (19 + 2) / 21]\r"
     ]
    },
    {
     "name": "stdout",
     "output_type": "stream",
     "text": [
      "+----------------------+------------------+\n",
      "|Analysis Neighborhoods|   AvgResponseTime|\n",
      "+----------------------+------------------+\n",
      "|                    37|1.7553019824804041|\n",
      "|                    27|1.5037859876851394|\n",
      "|                    38|1.2625219529329121|\n",
      "|                  NULL|1.2359060402684565|\n",
      "|                    17|1.2213818860877683|\n",
      "|                    19|1.1665086887835707|\n",
      "|                    10|1.1645498783454984|\n",
      "|                    25|1.1283571105072456|\n",
      "|                     1|1.1270918692524914|\n",
      "|                    26|1.1168206820682067|\n",
      "|                    13|1.1144991317885184|\n",
      "|                    33|1.1106085985482976|\n",
      "|                    40|1.1086716524216518|\n",
      "|                     4|1.1029662921348313|\n",
      "|                    16|1.1010693592365355|\n",
      "|                     6|1.0985548776730132|\n",
      "|                    32|1.0923261125847337|\n",
      "|                    22| 1.090273379776229|\n",
      "|                    41|1.0877408993576057|\n",
      "|                     2|1.0827280317261543|\n",
      "+----------------------+------------------+\n",
      "only showing top 20 rows\n",
      "\n"
     ]
    },
    {
     "name": "stderr",
     "output_type": "stream",
     "text": [
      "                                                                                \r"
     ]
    }
   ],
   "source": [
    "neighborhood_avg_response = ResponseTime_df. \\\n",
    "                            where(\" year(CallDate) == 2018 and 'Analysis Neighborhoods' is not null \"). \\\n",
    "                            groupBy(col(\"Analysis Neighborhoods\")). \\\n",
    "                            agg(\n",
    "                                avg(\"Response_Time\").alias(\"AvgResponseTime\")\n",
    "                            ). \\\n",
    "                            orderBy(\"AvgResponseTime\", ascending=False)\n",
    "\n",
    "neighborhood_avg_response.show()"
   ]
  },
  {
   "cell_type": "code",
   "execution_count": null,
   "metadata": {},
   "outputs": [],
   "source": []
  }
 ],
 "metadata": {
  "kernelspec": {
   "display_name": "Python 3",
   "language": "python",
   "name": "python3"
  },
  "language_info": {
   "codemirror_mode": {
    "name": "ipython",
    "version": 3
   },
   "file_extension": ".py",
   "mimetype": "text/x-python",
   "name": "python",
   "nbconvert_exporter": "python",
   "pygments_lexer": "ipython3",
   "version": "3.9.7"
  }
 },
 "nbformat": 4,
 "nbformat_minor": 2
}
